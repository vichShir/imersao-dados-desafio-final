{
 "cells": [
  {
   "attachments": {},
   "cell_type": "markdown",
   "metadata": {},
   "source": [
    "# Metodologia do Projeto de Drug Discovery\n",
    "\n",
    "### Processo de Data Science\n",
    "A seguir são apresentadas a definição das **etapas** do processo de Data Science empregadas neste projeto:\n",
    "#### **1. Levantamento das perguntas**\n",
    "    Definição de perguntas a serem respondidas.\n",
    "#### **2. Coleta dos Dados**\n",
    "    Busca das bases de dados.\n",
    "#### **3. Processamento e Organização dos Dados**\n",
    "    Padronização, limpeza, processamento e organização das informações das bases de dados.\n",
    "#### **4. Análise de Dados/Análise Exploratória**\n",
    "    Análise dos dados das bases a fim de averiguar suas principais características.\n",
    "#### **5. Desenvolvimento de Modelos e Algoritmos**\n",
    "    Definição dos modelos e algoritmos de predição de Machine Learning (ML).\n",
    "#### **6. Visualização dos Dados**\n",
    "    Visualização dos resultados dos modelos de ML e utilização de métricas para sua análise.\n",
    "#### **7. Tomada de Decisão**\n",
    "    Conclusões obtidas dos resultados e de todo escopo.\n",
    "\n",
    "#### Figura 1 - Etapas do Processo de Data Science\n",
    "![processo_data_science.png](https://s3.amazonaws.com/uploads.hotmart.com/blog/2018/04/processo-1.png)\n",
    "\n",
    "### Referências\n",
    "* LAGES, Gabriel. O que é Data Science e como utilizar a análise de dados para expandir seu negócio? 2018. Disponível em: https://blog.hotmart.com/pt-br/o-que-e-data-science/. Acesso em: 6 maio 2021."
   ]
  }
 ],
 "metadata": {
  "kernelspec": {
   "display_name": "Python 3",
   "language": "python",
   "name": "python3"
  },
  "language_info": {
   "codemirror_mode": {
    "name": "ipython",
    "version": 3
   },
   "file_extension": ".py",
   "mimetype": "text/x-python",
   "name": "python",
   "nbconvert_exporter": "python",
   "pygments_lexer": "ipython3",
   "version": "3.8.2"
  }
 },
 "nbformat": 4,
 "nbformat_minor": 4
}
